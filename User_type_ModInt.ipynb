{
 "cells": [
  {
   "cell_type": "markdown",
   "metadata": {},
   "source": [
    "# User type example: `ModInt`\n",
    "\n",
    "Sometimes you want a new kind of thing. In Julia types are just some data which we can add new behaviors to. New behavior is added by defining methods for existing and new generic functions. In this example, we're going to define a modular integer type called `ModInt`, which does \"clock arithmetic\" – with some number of \"hours\"."
   ]
  },
  {
   "cell_type": "markdown",
   "metadata": {},
   "source": [
    "## Defining a new type"
   ]
  },
  {
   "cell_type": "code",
   "execution_count": 12,
   "metadata": {
    "collapsed": true
   },
   "outputs": [],
   "source": [
    "struct ModInt{n} <: Integer\n",
    "    k::Int\n",
    "    (ModInt{n}(k) where {n}) = new(mod(k,n))\n",
    "end"
   ]
  },
  {
   "cell_type": "code",
   "execution_count": 13,
   "metadata": {
    "collapsed": false
   },
   "outputs": [
    {
     "data": {
      "text/plain": [
       "ModInt{13}(5)"
      ]
     },
     "execution_count": 13,
     "metadata": {},
     "output_type": "execute_result"
    }
   ],
   "source": [
    "a = ModInt{13}(213)"
   ]
  },
  {
   "cell_type": "code",
   "execution_count": 14,
   "metadata": {
    "collapsed": false
   },
   "outputs": [
    {
     "data": {
      "text/plain": [
       "ModInt{13}(12)"
      ]
     },
     "execution_count": 14,
     "metadata": {},
     "output_type": "execute_result"
    }
   ],
   "source": [
    "b = ModInt{13}(987)"
   ]
  },
  {
   "cell_type": "code",
   "execution_count": 15,
   "metadata": {
    "collapsed": false
   },
   "outputs": [
    {
     "name": "stdout",
     "output_type": "stream",
     "text": [
      "ModInt{13}\n",
      "  k: Int64 5\n"
     ]
    }
   ],
   "source": [
    "dump(a)"
   ]
  },
  {
   "cell_type": "code",
   "execution_count": 16,
   "metadata": {
    "collapsed": false
   },
   "outputs": [
    {
     "data": {
      "text/plain": [
       "5"
      ]
     },
     "execution_count": 16,
     "metadata": {},
     "output_type": "execute_result"
    }
   ],
   "source": [
    "213 % 13"
   ]
  },
  {
   "cell_type": "code",
   "execution_count": 11,
   "metadata": {
    "collapsed": false
   },
   "outputs": [
    {
     "data": {
      "text/plain": [
       "12"
      ]
     },
     "execution_count": 11,
     "metadata": {},
     "output_type": "execute_result"
    }
   ],
   "source": [
    "987 % 13"
   ]
  },
  {
   "cell_type": "markdown",
   "metadata": {},
   "source": [
    "That's it – that's all there is to creating a new type. Of course, it can't do much yet..."
   ]
  },
  {
   "cell_type": "code",
   "execution_count": 17,
   "metadata": {
    "collapsed": false
   },
   "outputs": [
    {
     "ename": "LoadError",
     "evalue": "\u001b[91m+ not defined for ModInt{13}\u001b[39m",
     "output_type": "error",
     "traceback": [
      "\u001b[91m+ not defined for ModInt{13}\u001b[39m",
      "",
      "Stacktrace:",
      " [1] \u001b[1m+\u001b[22m\u001b[22m\u001b[1m(\u001b[22m\u001b[22m::ModInt{13}, ::ModInt{13}\u001b[1m)\u001b[22m\u001b[22m at \u001b[1m./promotion.jl:335\u001b[22m\u001b[22m",
      " [2] \u001b[1minclude_string\u001b[22m\u001b[22m\u001b[1m(\u001b[22m\u001b[22m::String, ::String\u001b[1m)\u001b[22m\u001b[22m at \u001b[1m./loading.jl:515\u001b[22m\u001b[22m"
     ]
    }
   ],
   "source": [
    "a + b"
   ]
  },
  {
   "cell_type": "markdown",
   "metadata": {},
   "source": [
    "## Customizing behavior\n",
    "\n",
    "First, some nicer display:"
   ]
  },
  {
   "cell_type": "code",
   "execution_count": 18,
   "metadata": {
    "collapsed": true
   },
   "outputs": [],
   "source": [
    "Base.show{n}(io::IO, k::ModInt{n}) = print(io, \"$(k.k) mod $n\")"
   ]
  },
  {
   "cell_type": "code",
   "execution_count": 19,
   "metadata": {
    "collapsed": false
   },
   "outputs": [
    {
     "data": {
      "text/plain": [
       "5 mod 13"
      ]
     },
     "execution_count": 19,
     "metadata": {},
     "output_type": "execute_result"
    }
   ],
   "source": [
    "a"
   ]
  },
  {
   "cell_type": "code",
   "execution_count": 20,
   "metadata": {
    "collapsed": false
   },
   "outputs": [
    {
     "data": {
      "text/plain": [
       "12 mod 13"
      ]
     },
     "execution_count": 20,
     "metadata": {},
     "output_type": "execute_result"
    }
   ],
   "source": [
    "b"
   ]
  },
  {
   "cell_type": "code",
   "execution_count": 21,
   "metadata": {
    "collapsed": true
   },
   "outputs": [],
   "source": [
    "import Base: +, -, *, /, inv"
   ]
  },
  {
   "cell_type": "code",
   "execution_count": 22,
   "metadata": {
    "collapsed": false
   },
   "outputs": [],
   "source": [
    "# basic arithmetic\n",
    "\n",
    "+(a::ModInt{n}, b::ModInt{n}) where {n} = ModInt{n}(a.k + b.k)\n",
    "-(a::ModInt{n}, b::ModInt{n}) where {n} = ModInt{n}(a.k - b.k)\n",
    "*(a::ModInt{n}, b::ModInt{n}) where {n} = ModInt{n}(a.k * b.k)\n",
    "-(a::ModInt{n}) where {n} = ModInt{n}(-a.k)\n",
    "\n",
    "/(a::ModInt{n}, b::ModInt{n}) where {n} = a*inv(b)\n",
    "inv(a::ModInt{n}) where {n} = ModInt{n}(invmod(a.k, n))\n",
    "\n",
    "# interacting with regular integers\n",
    "\n",
    "Base.promote_rule(::Type{ModInt{n}}, ::Type{Int}) where {n} = ModInt{n}\n",
    "Base.convert(::Type{ModInt{n}}, i::Int) where {n} = ModInt{n}(i)"
   ]
  },
  {
   "cell_type": "code",
   "execution_count": 23,
   "metadata": {
    "collapsed": false
   },
   "outputs": [
    {
     "data": {
      "text/plain": [
       "4 mod 13"
      ]
     },
     "execution_count": 23,
     "metadata": {},
     "output_type": "execute_result"
    }
   ],
   "source": [
    "a + b"
   ]
  },
  {
   "cell_type": "code",
   "execution_count": 24,
   "metadata": {
    "collapsed": false
   },
   "outputs": [
    {
     "data": {
      "text/plain": [
       "8 mod 13"
      ]
     },
     "execution_count": 24,
     "metadata": {},
     "output_type": "execute_result"
    }
   ],
   "source": [
    "a*b"
   ]
  },
  {
   "cell_type": "code",
   "execution_count": 26,
   "metadata": {
    "collapsed": false
   },
   "outputs": [
    {
     "data": {
      "text/plain": [
       "5 mod 13"
      ]
     },
     "execution_count": 26,
     "metadata": {},
     "output_type": "execute_result"
    }
   ],
   "source": [
    "(a/b)*b"
   ]
  },
  {
   "cell_type": "code",
   "execution_count": 28,
   "metadata": {
    "collapsed": false
   },
   "outputs": [
    {
     "data": {
      "text/plain": [
       "12 mod 13"
      ]
     },
     "execution_count": 28,
     "metadata": {},
     "output_type": "execute_result"
    }
   ],
   "source": [
    "inv(b)"
   ]
  },
  {
   "cell_type": "code",
   "execution_count": 34,
   "metadata": {
    "collapsed": false
   },
   "outputs": [
    {
     "data": {
      "text/plain": [
       "2 mod 15"
      ]
     },
     "execution_count": 34,
     "metadata": {},
     "output_type": "execute_result"
    }
   ],
   "source": [
    "inv(ModInt{15}(8))"
   ]
  },
  {
   "cell_type": "markdown",
   "metadata": {},
   "source": [
    "With just a bit of arithmetic, we can do quite a bit:"
   ]
  },
  {
   "cell_type": "code",
   "execution_count": 35,
   "metadata": {
    "collapsed": false
   },
   "outputs": [
    {
     "data": {
      "text/plain": [
       "10×10 Array{ModInt{13},2}:\n",
       "  5 mod 13   0 mod 13  10 mod 13  …  11 mod 13   4 mod 13   1 mod 13\n",
       "  5 mod 13   4 mod 13   1 mod 13      5 mod 13   0 mod 13  12 mod 13\n",
       "  3 mod 13   5 mod 13   6 mod 13      6 mod 13   1 mod 13   6 mod 13\n",
       "  3 mod 13   6 mod 13   8 mod 13      8 mod 13  12 mod 13  12 mod 13\n",
       "  9 mod 13  12 mod 13   9 mod 13      9 mod 13   9 mod 13   3 mod 13\n",
       " 11 mod 13   2 mod 13   5 mod 13  …  11 mod 13   8 mod 13   2 mod 13\n",
       "  3 mod 13   1 mod 13  12 mod 13      5 mod 13   5 mod 13   4 mod 13\n",
       " 12 mod 13   2 mod 13   9 mod 13      3 mod 13   6 mod 13   2 mod 13\n",
       "  6 mod 13   7 mod 13   8 mod 13      1 mod 13   8 mod 13   3 mod 13\n",
       "  0 mod 13   6 mod 13  12 mod 13      3 mod 13  12 mod 13   9 mod 13"
      ]
     },
     "execution_count": 35,
     "metadata": {},
     "output_type": "execute_result"
    }
   ],
   "source": [
    "A = map(ModInt{13}, rand(Int, 10, 10))"
   ]
  },
  {
   "cell_type": "markdown",
   "metadata": {},
   "source": [
    "That's a bit verbose. We can tweak `Base.show` a bit to make it less repetetive:"
   ]
  },
  {
   "cell_type": "code",
   "execution_count": 36,
   "metadata": {
    "collapsed": true
   },
   "outputs": [],
   "source": [
    "Base.show{n}(io::IO, k::ModInt{n}) =\n",
    "    print(io, get(io, :compact, false) ? k.k : \"$(k.k) mod $n\")"
   ]
  },
  {
   "cell_type": "code",
   "execution_count": 37,
   "metadata": {
    "collapsed": false
   },
   "outputs": [
    {
     "data": {
      "text/plain": [
       "10×10 Array{ModInt{13},2}:\n",
       "  5   0  10   2   2   9   0  11   4   1\n",
       "  5   4   1   4   1   9   7   5   0  12\n",
       "  3   5   6   8   7  10   8   6   1   6\n",
       "  3   6   8  12   0  11   3   8  12  12\n",
       "  9  12   9   6   2  12   0   9   9   3\n",
       " 11   2   5  12   6   0   4  11   8   2\n",
       "  3   1  12   5  12  12   3   5   5   4\n",
       " 12   2   9   9  10   2  11   3   6   2\n",
       "  6   7   8   9   8   7   3   1   8   3\n",
       "  0   6  12   4   2   7   4   3  12   9"
      ]
     },
     "execution_count": 37,
     "metadata": {},
     "output_type": "execute_result"
    }
   ],
   "source": [
    "A"
   ]
  },
  {
   "cell_type": "markdown",
   "metadata": {},
   "source": [
    "Now let's play around..."
   ]
  },
  {
   "cell_type": "code",
   "execution_count": 38,
   "metadata": {
    "collapsed": false
   },
   "outputs": [
    {
     "data": {
      "text/plain": [
       "10×10 Array{ModInt{13},2}:\n",
       " 10   0   7   4   4   5  0   9   8   2\n",
       " 10   8   2   8   2   5  1  10   0  11\n",
       "  6  10  12   3   1   7  3  12   2  12\n",
       "  6  12   3  11   0   9  6   3  11  11\n",
       "  5  11   5  12   4  11  0   5   5   6\n",
       "  9   4  10  11  12   0  8   9   3   4\n",
       "  6   2  11  10  11  11  6  10  10   8\n",
       " 11   4   5   5   7   4  9   6  12   4\n",
       " 12   1   3   5   3   1  6   2   3   6\n",
       "  0  12  11   8   4   1  8   6  11   5"
      ]
     },
     "execution_count": 38,
     "metadata": {},
     "output_type": "execute_result"
    }
   ],
   "source": [
    "A + A"
   ]
  },
  {
   "cell_type": "code",
   "execution_count": 39,
   "metadata": {
    "collapsed": false
   },
   "outputs": [
    {
     "data": {
      "text/plain": [
       "10×10 Array{ModInt{13},2}:\n",
       " 10   0   7   4   4   5  0   9   8   2\n",
       " 10   8   2   8   2   5  1  10   0  11\n",
       "  6  10  12   3   1   7  3  12   2  12\n",
       "  6  12   3  11   0   9  6   3  11  11\n",
       "  5  11   5  12   4  11  0   5   5   6\n",
       "  9   4  10  11  12   0  8   9   3   4\n",
       "  6   2  11  10  11  11  6  10  10   8\n",
       " 11   4   5   5   7   4  9   6  12   4\n",
       " 12   1   3   5   3   1  6   2   3   6\n",
       "  0  12  11   8   4   1  8   6  11   5"
      ]
     },
     "execution_count": 39,
     "metadata": {},
     "output_type": "execute_result"
    }
   ],
   "source": [
    "2A"
   ]
  },
  {
   "cell_type": "code",
   "execution_count": 40,
   "metadata": {
    "collapsed": false
   },
   "outputs": [
    {
     "data": {
      "text/plain": [
       "10×10 Array{ModInt{13},2}:\n",
       "  9   4   7   9   9  1  12   2   7   0\n",
       "  2   8   3  12   1  0   0   8   8   1\n",
       "  6   5  10   4   4  6   4   5  10  12\n",
       "  0   8  11   2   6  6   3  12   9   6\n",
       "  7   3   3   7  12  3   9   1   3   4\n",
       " 11  11   7   7  11  4   8   1   5   8\n",
       "  7   9  12   9   9  9   1   8   5   7\n",
       "  3   3   7  11  10  5   5   1   0   6\n",
       "  9  12  10  10   2  0   3   2  12  11\n",
       "  7   8   0   0   3  1   9  11  12   0"
      ]
     },
     "execution_count": 40,
     "metadata": {},
     "output_type": "execute_result"
    }
   ],
   "source": [
    "A*A"
   ]
  },
  {
   "cell_type": "code",
   "execution_count": 45,
   "metadata": {
    "collapsed": false
   },
   "outputs": [
    {
     "data": {
      "text/plain": [
       "10×10 Array{Int64,2}:\n",
       " 334  160  332  373  282  248  259  288  254  156\n",
       " 249  164  419  324  235  325  208  307  359  274\n",
       " 357  265  478  459  303  461  264  408  413  337\n",
       " 403  333  583  613  370  513  367  415  555  461\n",
       " 462  276  471  540  337  471  360  456  393  381\n",
       " 362  271  527  449  297  511  255  378  421  307\n",
       " 410  334  480  503  321  464  261  437  421  280\n",
       " 341  302  579  440  335  629  213  456  416  318\n",
       " 334  311  439  452  249  507  224  405  389  349\n",
       " 293  294  442  455  328  443  295  297  376  351"
      ]
     },
     "execution_count": 45,
     "metadata": {},
     "output_type": "execute_result"
    }
   ],
   "source": [
    "map(a->a.k, A)^2"
   ]
  },
  {
   "cell_type": "code",
   "execution_count": 46,
   "metadata": {
    "collapsed": false
   },
   "outputs": [
    {
     "data": {
      "text/plain": [
       "10×10 Array{Int64,2}:\n",
       "  9   4   7   9   9  1  12   2   7   0\n",
       "  2   8   3  12   1  0   0   8   8   1\n",
       "  6   5  10   4   4  6   4   5  10  12\n",
       "  0   8  11   2   6  6   3  12   9   6\n",
       "  7   3   3   7  12  3   9   1   3   4\n",
       " 11  11   7   7  11  4   8   1   5   8\n",
       "  7   9  12   9   9  9   1   8   5   7\n",
       "  3   3   7  11  10  5   5   1   0   6\n",
       "  9  12  10  10   2  0   3   2  12  11\n",
       "  7   8   0   0   3  1   9  11  12   0"
      ]
     },
     "execution_count": 46,
     "metadata": {},
     "output_type": "execute_result"
    }
   ],
   "source": [
    "map(a->(a%13), ans)"
   ]
  },
  {
   "cell_type": "code",
   "execution_count": 47,
   "metadata": {
    "collapsed": false
   },
   "outputs": [
    {
     "data": {
      "text/plain": [
       "10×10 Array{ModInt{13},2}:\n",
       "  9   4   7   9   9  1  12   2   7   0\n",
       "  2   8   3  12   1  0   0   8   8   1\n",
       "  6   5  10   4   4  6   4   5  10  12\n",
       "  0   8  11   2   6  6   3  12   9   6\n",
       "  7   3   3   7  12  3   9   1   3   4\n",
       " 11  11   7   7  11  4   8   1   5   8\n",
       "  7   9  12   9   9  9   1   8   5   7\n",
       "  3   3   7  11  10  5   5   1   0   6\n",
       "  9  12  10  10   2  0   3   2  12  11\n",
       "  7   8   0   0   3  1   9  11  12   0"
      ]
     },
     "execution_count": 47,
     "metadata": {},
     "output_type": "execute_result"
    }
   ],
   "source": [
    "A^2"
   ]
  },
  {
   "cell_type": "code",
   "execution_count": 48,
   "metadata": {
    "collapsed": false
   },
   "outputs": [
    {
     "data": {
      "text/plain": [
       "10×10 Array{ModInt{13},2}:\n",
       " 3  4   2   5   1   1  0   8  11   0\n",
       " 1  8   8   8  11   0  7   2  11   9\n",
       " 9  9  12   1  11   4  2   0  12   9\n",
       " 1  4   4   1   9   2  9  10   2  12\n",
       " 7  8   3   5  12   5  4  11   4   3\n",
       " 2  0   7   9   1  10  4  10   5   3\n",
       " 8  4   6   7   7  10  0   2  10   6\n",
       " 7  7  11   5   5   5  8   9  11  11\n",
       " 2  4  11  11   2   3  5   2  11  11\n",
       " 1  1   5   8  10   1  7  11  12   8"
      ]
     },
     "execution_count": 48,
     "metadata": {},
     "output_type": "execute_result"
    }
   ],
   "source": [
    "A^100"
   ]
  },
  {
   "cell_type": "code",
   "execution_count": 50,
   "metadata": {
    "collapsed": false
   },
   "outputs": [
    {
     "data": {
      "text/plain": [
       "10×10 Array{ModInt{13},2}:\n",
       "  2  12   3   1  6  11   7   1   2   0\n",
       "  9   2  11  10  4   5   8   4   1   2\n",
       "  3   9   0  11  9   4  11  12   9   8\n",
       "  8   4   8   7  1   9  11   9   4   1\n",
       "  0   2  12   7  0  10   1   3   7  10\n",
       "  4   9   9   7  7  11   5   1   5   2\n",
       " 12  10   3   9  3   2   1   4  11  11\n",
       "  4   6   6   1  6   8   7   7   8   1\n",
       "  6   3   4   1  8   3  10   6   5   5\n",
       " 12   8   6   6  7   7   5  12  12  10"
      ]
     },
     "execution_count": 50,
     "metadata": {},
     "output_type": "execute_result"
    }
   ],
   "source": [
    "A^1000000"
   ]
  },
  {
   "cell_type": "code",
   "execution_count": 51,
   "metadata": {
    "collapsed": false
   },
   "outputs": [
    {
     "data": {
      "text/html": [
       "^<i>{T}</i>(A::<b>AbstractArray{T,2}</b>, p::<b>Integer</b>) at <a href=\"https://github.com/JuliaLang/julia/tree/dcf39a1ddaa788feb231f06611f849c18dcece76/base/linalg/dense.jl#L332\" target=\"_blank\">linalg/dense.jl:332</a>"
      ],
      "text/plain": [
       "^(A::AbstractArray{T,2}, p::Integer) where T in Base.LinAlg at linalg/dense.jl:332"
      ]
     },
     "execution_count": 51,
     "metadata": {},
     "output_type": "execute_result"
    }
   ],
   "source": [
    "@which A^1000000"
   ]
  },
  {
   "cell_type": "code",
   "execution_count": 52,
   "metadata": {
    "collapsed": false
   },
   "outputs": [
    {
     "data": {
      "text/plain": [
       "800"
      ]
     },
     "execution_count": 52,
     "metadata": {},
     "output_type": "execute_result"
    }
   ],
   "source": [
    "sizeof(A)"
   ]
  },
  {
   "cell_type": "code",
   "execution_count": 53,
   "metadata": {
    "collapsed": false
   },
   "outputs": [
    {
     "data": {
      "text/plain": [
       "8"
      ]
     },
     "execution_count": 53,
     "metadata": {},
     "output_type": "execute_result"
    }
   ],
   "source": [
    "sizeof(A) ÷ prod(size(A))"
   ]
  },
  {
   "cell_type": "code",
   "execution_count": 54,
   "metadata": {
    "collapsed": false
   },
   "outputs": [
    {
     "name": "stdout",
     "output_type": "stream",
     "text": [
      "ModInt{13}\n",
      "  k: Int64 5\n"
     ]
    }
   ],
   "source": [
    "dump(a)"
   ]
  },
  {
   "cell_type": "code",
   "execution_count": 55,
   "metadata": {
    "collapsed": false
   },
   "outputs": [
    {
     "data": {
      "text/plain": [
       "5"
      ]
     },
     "execution_count": 55,
     "metadata": {},
     "output_type": "execute_result"
    }
   ],
   "source": [
    "a.k"
   ]
  },
  {
   "cell_type": "code",
   "execution_count": 56,
   "metadata": {
    "collapsed": false
   },
   "outputs": [
    {
     "ename": "LoadError",
     "evalue": "\u001b[91mtype ModInt is immutable\u001b[39m",
     "output_type": "error",
     "traceback": [
      "\u001b[91mtype ModInt is immutable\u001b[39m",
      "",
      "Stacktrace:",
      " [1] \u001b[1minclude_string\u001b[22m\u001b[22m\u001b[1m(\u001b[22m\u001b[22m::String, ::String\u001b[1m)\u001b[22m\u001b[22m at \u001b[1m./loading.jl:515\u001b[22m\u001b[22m"
     ]
    }
   ],
   "source": [
    "a.k = 6"
   ]
  },
  {
   "cell_type": "code",
   "execution_count": 57,
   "metadata": {
    "collapsed": false
   },
   "outputs": [
    {
     "data": {
      "text/plain": [
       "3-element Array{Int64,1}:\n",
       " 1\n",
       " 2\n",
       " 3"
      ]
     },
     "execution_count": 57,
     "metadata": {},
     "output_type": "execute_result"
    }
   ],
   "source": [
    "v = [1,2,3]"
   ]
  },
  {
   "cell_type": "code",
   "execution_count": 58,
   "metadata": {
    "collapsed": false
   },
   "outputs": [
    {
     "data": {
      "text/plain": [
       "3-element Array{Int64,1}:\n",
       " 1\n",
       " 2\n",
       " 3"
      ]
     },
     "execution_count": 58,
     "metadata": {},
     "output_type": "execute_result"
    }
   ],
   "source": [
    "w = [1,2,3]"
   ]
  },
  {
   "cell_type": "code",
   "execution_count": 59,
   "metadata": {
    "collapsed": false
   },
   "outputs": [
    {
     "data": {
      "text/plain": [
       "true"
      ]
     },
     "execution_count": 59,
     "metadata": {},
     "output_type": "execute_result"
    }
   ],
   "source": [
    "v == w"
   ]
  },
  {
   "cell_type": "code",
   "execution_count": 60,
   "metadata": {
    "collapsed": false
   },
   "outputs": [
    {
     "data": {
      "text/plain": [
       "-1"
      ]
     },
     "execution_count": 60,
     "metadata": {},
     "output_type": "execute_result"
    }
   ],
   "source": [
    "v[1] *= -1"
   ]
  },
  {
   "cell_type": "code",
   "execution_count": 61,
   "metadata": {
    "collapsed": false
   },
   "outputs": [
    {
     "data": {
      "text/plain": [
       "3-element Array{Int64,1}:\n",
       " -1\n",
       "  2\n",
       "  3"
      ]
     },
     "execution_count": 61,
     "metadata": {},
     "output_type": "execute_result"
    }
   ],
   "source": [
    "v"
   ]
  },
  {
   "cell_type": "code",
   "execution_count": 62,
   "metadata": {
    "collapsed": false
   },
   "outputs": [
    {
     "data": {
      "text/plain": [
       "3-element Array{Int64,1}:\n",
       " 1\n",
       " 2\n",
       " 3"
      ]
     },
     "execution_count": 62,
     "metadata": {},
     "output_type": "execute_result"
    }
   ],
   "source": [
    "w"
   ]
  },
  {
   "cell_type": "code",
   "execution_count": 63,
   "metadata": {
    "collapsed": true
   },
   "outputs": [],
   "source": [
    "mutable struct MudInt{n} <: Integer\n",
    "    k::Int\n",
    "    (MudInt{n}(k) where {n}) = new(mod(k,n))\n",
    "end"
   ]
  },
  {
   "cell_type": "code",
   "execution_count": 64,
   "metadata": {
    "collapsed": false
   },
   "outputs": [
    {
     "data": {
      "text/plain": [
       "MudInt{7}(4)"
      ]
     },
     "execution_count": 64,
     "metadata": {},
     "output_type": "execute_result"
    }
   ],
   "source": [
    "x = MudInt{7}(123)"
   ]
  },
  {
   "cell_type": "code",
   "execution_count": 65,
   "metadata": {
    "collapsed": false
   },
   "outputs": [
    {
     "data": {
      "text/plain": [
       "4"
      ]
     },
     "execution_count": 65,
     "metadata": {},
     "output_type": "execute_result"
    }
   ],
   "source": [
    "x.k"
   ]
  },
  {
   "cell_type": "code",
   "execution_count": 66,
   "metadata": {
    "collapsed": false
   },
   "outputs": [
    {
     "data": {
      "text/plain": [
       "5"
      ]
     },
     "execution_count": 66,
     "metadata": {},
     "output_type": "execute_result"
    }
   ],
   "source": [
    "x.k = 5"
   ]
  },
  {
   "cell_type": "code",
   "execution_count": 67,
   "metadata": {
    "collapsed": false
   },
   "outputs": [
    {
     "data": {
      "text/plain": [
       "MudInt{7}(5)"
      ]
     },
     "execution_count": 67,
     "metadata": {},
     "output_type": "execute_result"
    }
   ],
   "source": [
    "x"
   ]
  },
  {
   "cell_type": "code",
   "execution_count": 68,
   "metadata": {
    "collapsed": false
   },
   "outputs": [
    {
     "data": {
      "text/plain": [
       "5×5 Array{MudInt{7},2}:\n",
       " MudInt{7}(5)  MudInt{7}(3)  MudInt{7}(1)  MudInt{7}(1)  MudInt{7}(5)\n",
       " MudInt{7}(4)  MudInt{7}(5)  MudInt{7}(6)  MudInt{7}(1)  MudInt{7}(1)\n",
       " MudInt{7}(6)  MudInt{7}(0)  MudInt{7}(5)  MudInt{7}(5)  MudInt{7}(3)\n",
       " MudInt{7}(6)  MudInt{7}(5)  MudInt{7}(5)  MudInt{7}(0)  MudInt{7}(0)\n",
       " MudInt{7}(4)  MudInt{7}(5)  MudInt{7}(5)  MudInt{7}(0)  MudInt{7}(3)"
      ]
     },
     "execution_count": 68,
     "metadata": {},
     "output_type": "execute_result"
    }
   ],
   "source": [
    "X = map(MudInt{7}, rand(Int, 5, 5))"
   ]
  },
  {
   "cell_type": "code",
   "execution_count": 70,
   "metadata": {
    "collapsed": false
   },
   "outputs": [
    {
     "data": {
      "text/plain": [
       "MudInt{7}(5)"
      ]
     },
     "execution_count": 70,
     "metadata": {},
     "output_type": "execute_result"
    }
   ],
   "source": [
    "x = X[1]"
   ]
  },
  {
   "cell_type": "code",
   "execution_count": 71,
   "metadata": {
    "collapsed": false
   },
   "outputs": [
    {
     "data": {
      "text/plain": [
       "7"
      ]
     },
     "execution_count": 71,
     "metadata": {},
     "output_type": "execute_result"
    }
   ],
   "source": [
    "x.k = 7"
   ]
  },
  {
   "cell_type": "code",
   "execution_count": 72,
   "metadata": {
    "collapsed": false
   },
   "outputs": [
    {
     "data": {
      "text/plain": [
       "MudInt{7}(7)"
      ]
     },
     "execution_count": 72,
     "metadata": {},
     "output_type": "execute_result"
    }
   ],
   "source": [
    "x"
   ]
  },
  {
   "cell_type": "code",
   "execution_count": 73,
   "metadata": {
    "collapsed": false
   },
   "outputs": [
    {
     "data": {
      "text/plain": [
       "5×5 Array{MudInt{7},2}:\n",
       " MudInt{7}(7)  MudInt{7}(3)  MudInt{7}(1)  MudInt{7}(1)  MudInt{7}(5)\n",
       " MudInt{7}(4)  MudInt{7}(5)  MudInt{7}(6)  MudInt{7}(1)  MudInt{7}(1)\n",
       " MudInt{7}(6)  MudInt{7}(0)  MudInt{7}(5)  MudInt{7}(5)  MudInt{7}(3)\n",
       " MudInt{7}(6)  MudInt{7}(5)  MudInt{7}(5)  MudInt{7}(0)  MudInt{7}(0)\n",
       " MudInt{7}(4)  MudInt{7}(5)  MudInt{7}(5)  MudInt{7}(0)  MudInt{7}(3)"
      ]
     },
     "execution_count": 73,
     "metadata": {},
     "output_type": "execute_result"
    }
   ],
   "source": [
    "X"
   ]
  },
  {
   "cell_type": "code",
   "execution_count": 80,
   "metadata": {
    "collapsed": false
   },
   "outputs": [
    {
     "data": {
      "text/plain": [
       "MudInt{7}(11)"
      ]
     },
     "execution_count": 80,
     "metadata": {},
     "output_type": "execute_result"
    }
   ],
   "source": [
    "y = deepcopy(x)"
   ]
  },
  {
   "cell_type": "code",
   "execution_count": 81,
   "metadata": {
    "collapsed": false
   },
   "outputs": [
    {
     "data": {
      "text/plain": [
       "3"
      ]
     },
     "execution_count": 81,
     "metadata": {},
     "output_type": "execute_result"
    }
   ],
   "source": [
    "y.k = 3"
   ]
  },
  {
   "cell_type": "code",
   "execution_count": 82,
   "metadata": {
    "collapsed": false
   },
   "outputs": [
    {
     "data": {
      "text/plain": [
       "MudInt{7}(3)"
      ]
     },
     "execution_count": 82,
     "metadata": {},
     "output_type": "execute_result"
    }
   ],
   "source": [
    "y"
   ]
  },
  {
   "cell_type": "code",
   "execution_count": 83,
   "metadata": {
    "collapsed": false
   },
   "outputs": [
    {
     "data": {
      "text/plain": [
       "5×5 Array{MudInt{7},2}:\n",
       " MudInt{7}(11)  MudInt{7}(3)  MudInt{7}(1)  MudInt{7}(1)  MudInt{7}(5)\n",
       "  MudInt{7}(4)  MudInt{7}(5)  MudInt{7}(6)  MudInt{7}(1)  MudInt{7}(1)\n",
       "  MudInt{7}(6)  MudInt{7}(0)  MudInt{7}(5)  MudInt{7}(5)  MudInt{7}(3)\n",
       "  MudInt{7}(6)  MudInt{7}(5)  MudInt{7}(5)  MudInt{7}(0)  MudInt{7}(0)\n",
       "  MudInt{7}(4)  MudInt{7}(5)  MudInt{7}(5)  MudInt{7}(0)  MudInt{7}(3)"
      ]
     },
     "execution_count": 83,
     "metadata": {},
     "output_type": "execute_result"
    }
   ],
   "source": [
    "X"
   ]
  },
  {
   "cell_type": "code",
   "execution_count": 79,
   "metadata": {
    "collapsed": false
   },
   "outputs": [
    {
     "data": {
      "text/plain": [
       "MudInt{7}(11)"
      ]
     },
     "execution_count": 79,
     "metadata": {},
     "output_type": "execute_result"
    }
   ],
   "source": [
    "x"
   ]
  },
  {
   "cell_type": "code",
   "execution_count": null,
   "metadata": {
    "collapsed": true
   },
   "outputs": [],
   "source": []
  }
 ],
 "metadata": {
  "anaconda-cloud": {},
  "kernelspec": {
   "display_name": "Julia 0.6.1-pre",
   "language": "julia",
   "name": "julia-0.6"
  },
  "language_info": {
   "file_extension": ".jl",
   "mimetype": "application/julia",
   "name": "julia",
   "version": "0.6.1"
  }
 },
 "nbformat": 4,
 "nbformat_minor": 2
}
