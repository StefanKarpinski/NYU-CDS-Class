{
 "cells": [
  {
   "cell_type": "code",
   "execution_count": 21,
   "metadata": {},
   "outputs": [],
   "source": [
    "using Flux, CuArrays\n",
    "using Flux: onehot, onehotbatch, crossentropy, reset!, throttle, batch, batchseq"
   ]
  },
  {
   "cell_type": "code",
   "execution_count": 22,
   "metadata": {},
   "outputs": [
    {
     "data": {
      "text/plain": [
       "Dict{Symbol,Array{String,1}} with 5 entries:\n",
       "  :en => String[\"wikipedia (/ˌwɪkɪˈpiːdiə/ ( listen), /ˌwɪkiˈpiːdiə/ ( listen)w…\n",
       "  :it => String[\"wikipedia (pronuncia: vedi sotto) e un'enciclopediaonline a co…\n",
       "  :fr => String[\"wikipediaecouter est un projet d'encyclopedie universelle, mul…\n",
       "  :es => String[\"wikipedia es una enciclopedialibre,[nota 2]\\u200bpoliglota y e…\n",
       "  :da => String[\"wikipedia er en encyklopædi med abent indhold, skrevet i samar…"
      ]
     },
     "execution_count": 22,
     "metadata": {},
     "output_type": "execute_result"
    }
   ],
   "source": [
    "corpora = Dict{Symbol,Vector{String}}()\n",
    "\n",
    "for file in readdir(\"corpus\")\n",
    "  lang = Symbol(match(r\"(.*)\\.txt\", file).captures[1])\n",
    "  corpus = split(String(read(\"corpus/$file\")), \".\")\n",
    "  corpus = strip.(normalize_string.(corpus, casefold=true, stripmark=true))\n",
    "  corpus = filter(!isempty, corpus)\n",
    "  corpora[lang] = corpus\n",
    "end\n",
    "\n",
    "corpora"
   ]
  },
  {
   "cell_type": "code",
   "execution_count": 23,
   "metadata": {},
   "outputs": [],
   "source": [
    "langs = collect(keys(corpora))\n",
    "alphabet = ['a':'z'; '0':'9'; ' '; '\\n'; '_'; '\\0'];"
   ]
  },
  {
   "cell_type": "code",
   "execution_count": 24,
   "metadata": {},
   "outputs": [
    {
     "data": {
      "text/plain": [
       "149-element Array{Char,1}:\n",
       " '('\n",
       " '/'\n",
       " 'ˌ'\n",
       " 'ɪ'\n",
       " 'ˈ'\n",
       " 'ː'\n",
       " 'ə'\n",
       " ' '\n",
       " ')'\n",
       " ','\n",
       " '-'\n",
       " '['\n",
       " ']'\n",
       " ⋮  \n",
       " 'ব'\n",
       " 'ল'\n",
       " 'দ'\n",
       " 'শ'\n",
       " 'চ'\n",
       " 'ট'\n",
       " 'ম'\n",
       " 'ঢ'\n",
       " 'ক'\n",
       " 'খ'\n",
       " 'হ'\n",
       " 'স'"
      ]
     },
     "execution_count": 24,
     "metadata": {},
     "output_type": "execute_result"
    }
   ],
   "source": [
    "# See which chars will be represented as \"unknown\"\n",
    "filter(x -> x ∉ alphabet, unique(join(vcat(values(corpora)...))))"
   ]
  },
  {
   "cell_type": "code",
   "execution_count": 25,
   "metadata": {},
   "outputs": [],
   "source": [
    "dataset = [(onehotbatch(s, alphabet, '_').data, onehot(l, langs))\n",
    "           for l in langs for s in corpora[l]]\n",
    "dataset = sort(dataset, by = x -> length(x[1]))\n",
    "dataset = [(batchseq(map(x->x[1],dataset[i]), onehot('\\0', alphabet)), batch(map(x->x[2], dataset[i])))\n",
    "           for i in Iterators.partition(1:length(dataset), 50)] |> shuffle\n",
    "train, test = dataset[1:end-5], dataset[end-5+1:end];"
   ]
  },
  {
   "cell_type": "code",
   "execution_count": 26,
   "metadata": {},
   "outputs": [
    {
     "data": {
      "text/plain": [
       "\"162-element Array{Tuple{Array{Flux.OneHotMatrix{Array{Flux.OneHotVector,1}},1},Flux.OneHotMatrix{Array{Flux.OneHotVector,1}}},1}\""
      ]
     },
     "execution_count": 26,
     "metadata": {},
     "output_type": "execute_result"
    }
   ],
   "source": [
    "summary(train)"
   ]
  },
  {
   "cell_type": "code",
   "execution_count": 27,
   "metadata": {},
   "outputs": [
    {
     "data": {
      "text/plain": [
       "\"5-element Array{Tuple{Array{Flux.OneHotMatrix{Array{Flux.OneHotVector,1}},1},Flux.OneHotMatrix{Array{Flux.OneHotVector,1}}},1}\""
      ]
     },
     "execution_count": 27,
     "metadata": {},
     "output_type": "execute_result"
    }
   ],
   "source": [
    "summary(test)"
   ]
  },
  {
   "cell_type": "code",
   "execution_count": 28,
   "metadata": {},
   "outputs": [
    {
     "data": {
      "text/plain": [
       "loss (generic function with 1 method)"
      ]
     },
     "execution_count": 28,
     "metadata": {},
     "output_type": "execute_result"
    }
   ],
   "source": [
    "N = 15\n",
    "\n",
    "scanner = Chain(Dense(length(alphabet), N, σ), LSTM(N, N))\n",
    "encoder = Dense(N, length(langs))\n",
    "\n",
    "function model(x)\n",
    "    state = gpu(scanner.(collect.(x))[end])\n",
    "    reset!(scanner)\n",
    "    softmax(encoder(state))\n",
    "end\n",
    "\n",
    "loss(x, y) = crossentropy(model(x), collect(y))"
   ]
  },
  {
   "cell_type": "code",
   "execution_count": 29,
   "metadata": {},
   "outputs": [
    {
     "data": {
      "text/plain": [
       "(::#53) (generic function with 1 method)"
      ]
     },
     "execution_count": 29,
     "metadata": {},
     "output_type": "execute_result"
    }
   ],
   "source": [
    "testloss() = mean(loss(t...) for t in test)\n",
    "opt = ADAM(params(scanner, encoder))\n",
    "evalcb = () -> @show testloss()"
   ]
  },
  {
   "cell_type": "code",
   "execution_count": 30,
   "metadata": {
    "scrolled": false
   },
   "outputs": [
    {
     "name": "stdout",
     "output_type": "stream",
     "text": [
      "testloss() = 1.7944761730312382 (tracked)\n",
      "testloss() = 1.508606485602852 (tracked)\n",
      "testloss() = 1.4672229002586121 (tracked)\n"
     ]
    },
    {
     "ename": "LoadError",
     "evalue": "\u001b[91mInterruptException:\u001b[39m",
     "output_type": "error",
     "traceback": [
      "\u001b[91mInterruptException:\u001b[39m",
      "",
      "Stacktrace:",
      " [1] \u001b[1mbroadcast_t\u001b[22m\u001b[22m\u001b[1m(\u001b[22m\u001b[22m::Function, ::Type{T} where T, ::Tuple{Base.OneTo{Int64},Base.OneTo{Int64}}, ::CartesianRange{CartesianIndex{2}}, ::Array{ForwardDiff.Dual{Void,Float64,1},2}\u001b[1m)\u001b[22m\u001b[22m at \u001b[1m./broadcast.jl:270\u001b[22m\u001b[22m",
      " [2] \u001b[1mbroadcast_c\u001b[22m\u001b[22m at \u001b[1m./broadcast.jl:316\u001b[22m\u001b[22m [inlined]",
      " [3] \u001b[1mbroadcast\u001b[22m\u001b[22m at \u001b[1m./broadcast.jl:455\u001b[22m\u001b[22m [inlined]",
      " [4] \u001b[1mtracked_broadcast\u001b[22m\u001b[22m\u001b[1m(\u001b[22m\u001b[22m::Function, ::TrackedArray{…,Array{Float64,2}}\u001b[1m)\u001b[22m\u001b[22m at \u001b[1m/home/stefankarpinski/.julia/v0.6/Flux/src/tracker/array.jl:278\u001b[22m\u001b[22m",
      " [5] \u001b[1m(::Flux.LSTMCell{TrackedArray{…,Array{Float64,2}},TrackedArray{…,Array{Float64,1}}})\u001b[22m\u001b[22m\u001b[1m(\u001b[22m\u001b[22m::Tuple{TrackedArray{…,Array{Float64,2}},TrackedArray{…,Array{Float64,2}}}, ::TrackedArray{…,Array{Float64,2}}\u001b[1m)\u001b[22m\u001b[22m at \u001b[1m/home/stefankarpinski/.julia/v0.6/Flux/src/layers/recurrent.jl:136\u001b[22m\u001b[22m",
      " [6] \u001b[1m(::Flux.Recur{Flux.LSTMCell{TrackedArray{…,Array{Float64,2}},TrackedArray{…,Array{Float64,1}}}})\u001b[22m\u001b[22m\u001b[1m(\u001b[22m\u001b[22m::TrackedArray{…,Array{Float64,2}}, ::Vararg{TrackedArray{…,Array{Float64,2}},N} where N\u001b[1m)\u001b[22m\u001b[22m at \u001b[1m/home/stefankarpinski/.julia/v0.6/Flux/src/layers/recurrent.jl:36\u001b[22m\u001b[22m",
      " [7] \u001b[1mmapfoldl_impl\u001b[22m\u001b[22m\u001b[1m(\u001b[22m\u001b[22m::Base.#identity, ::Flux.##81#82, ::Array{Bool,2}, ::Array{Any,1}, ::Int64\u001b[1m)\u001b[22m\u001b[22m at \u001b[1m./reduce.jl:46\u001b[22m\u001b[22m",
      " [8] \u001b[1m(::Flux.Chain)\u001b[22m\u001b[22m\u001b[1m(\u001b[22m\u001b[22m::Array{Bool,2}\u001b[1m)\u001b[22m\u001b[22m at \u001b[1m/home/stefankarpinski/.julia/v0.6/Flux/src/layers/basic.jl:31\u001b[22m\u001b[22m",
      " [9] \u001b[1mmacro expansion\u001b[22m\u001b[22m at \u001b[1m./broadcast.jl:232\u001b[22m\u001b[22m [inlined]",
      " [10] \u001b[1m_broadcast!\u001b[22m\u001b[22m\u001b[1m(\u001b[22m\u001b[22m::##49#50, ::Array{TrackedArray{…,Array{Float64,2}},1}, ::Tuple{Tuple{Bool}}, ::Tuple{Tuple{Int64}}, ::Tuple{Array{Flux.OneHotMatrix{Array{Flux.OneHotVector,1}},1}}, ::Type{Val{1}}, ::CartesianRange{CartesianIndex{1}}, ::CartesianIndex{1}, ::Int64\u001b[1m)\u001b[22m\u001b[22m at \u001b[1m./broadcast.jl:219\u001b[22m\u001b[22m",
      " [11] \u001b[1mbroadcast_t\u001b[22m\u001b[22m\u001b[1m(\u001b[22m\u001b[22m::Function, ::Type{Any}, ::Tuple{Base.OneTo{Int64}}, ::CartesianRange{CartesianIndex{1}}, ::Array{Flux.OneHotMatrix{Array{Flux.OneHotVector,1}},1}\u001b[1m)\u001b[22m\u001b[22m at \u001b[1m./broadcast.jl:265\u001b[22m\u001b[22m",
      " [12] \u001b[1mbroadcast_c\u001b[22m\u001b[22m at \u001b[1m./broadcast.jl:321\u001b[22m\u001b[22m [inlined]",
      " [13] \u001b[1mbroadcast\u001b[22m\u001b[22m at \u001b[1m./broadcast.jl:455\u001b[22m\u001b[22m [inlined]",
      " [14] \u001b[1mmodel\u001b[22m\u001b[22m\u001b[1m(\u001b[22m\u001b[22m::Array{Flux.OneHotMatrix{Array{Flux.OneHotVector,1}},1}\u001b[1m)\u001b[22m\u001b[22m at \u001b[1m./In[28]:7\u001b[22m\u001b[22m",
      " [15] \u001b[1mmean\u001b[22m\u001b[22m\u001b[1m(\u001b[22m\u001b[22m::Base.#identity, ::Base.Generator{Array{Tuple{Array{Flux.OneHotMatrix{Array{Flux.OneHotVector,1}},1},Flux.OneHotMatrix{Array{Flux.OneHotVector,1}}},1},##51#52}\u001b[1m)\u001b[22m\u001b[22m at \u001b[1m./statistics.jl:28\u001b[22m\u001b[22m",
      " [16] \u001b[1mmacro expansion\u001b[22m\u001b[22m at \u001b[1m./show.jl:243\u001b[22m\u001b[22m [inlined]",
      " [17] \u001b[1m(::##53#54)\u001b[22m\u001b[22m\u001b[1m(\u001b[22m\u001b[22m\u001b[1m)\u001b[22m\u001b[22m at \u001b[1m./In[29]:3\u001b[22m\u001b[22m",
      " [18] \u001b[1m(::Flux.##throttled#10#15{Bool,Bool,##53#54,Int64})\u001b[22m\u001b[22m\u001b[1m(\u001b[22m\u001b[22m::Array{Any,1}, ::Function\u001b[1m)\u001b[22m\u001b[22m at \u001b[1m/home/stefankarpinski/.julia/v0.6/Flux/src/utils.jl:116\u001b[22m\u001b[22m",
      " [19] \u001b[1m#train!#130\u001b[22m\u001b[22m\u001b[1m(\u001b[22m\u001b[22m::Flux.#throttled#14, ::Function, ::Function, ::Array{Tuple{Array{Flux.OneHotMatrix{Array{Flux.OneHotVector,1}},1},Flux.OneHotMatrix{Array{Flux.OneHotVector,1}}},1}, ::Flux.Optimise.##71#75\u001b[1m)\u001b[22m\u001b[22m at \u001b[1m/home/stefankarpinski/.julia/v0.6/Flux/src/optimise/train.jl:44\u001b[22m\u001b[22m",
      " [20] \u001b[1m(::Flux.Optimise.#kw##train!)\u001b[22m\u001b[22m\u001b[1m(\u001b[22m\u001b[22m::Array{Any,1}, ::Flux.Optimise.#train!, ::Function, ::Array{Tuple{Array{Flux.OneHotMatrix{Array{Flux.OneHotVector,1}},1},Flux.OneHotMatrix{Array{Flux.OneHotVector,1}}},1}, ::Function\u001b[1m)\u001b[22m\u001b[22m at \u001b[1m./<missing>:0\u001b[22m\u001b[22m",
      " [21] \u001b[1mmacro expansion\u001b[22m\u001b[22m at \u001b[1m./In[30]:1\u001b[22m\u001b[22m [inlined]",
      " [22] \u001b[1mmacro expansion\u001b[22m\u001b[22m at \u001b[1m./util.jl:237\u001b[22m\u001b[22m [inlined]",
      " [23] \u001b[1manonymous\u001b[22m\u001b[22m at \u001b[1m./<missing>:?\u001b[22m\u001b[22m",
      " [24] \u001b[1minclude_string\u001b[22m\u001b[22m\u001b[1m(\u001b[22m\u001b[22m::String, ::String\u001b[1m)\u001b[22m\u001b[22m at \u001b[1m./loading.jl:522\u001b[22m\u001b[22m"
     ]
    }
   ],
   "source": [
    "@time for i = 1:10 Flux.train!(loss, train, opt, cb = throttle(evalcb, 10)) end"
   ]
  },
  {
   "cell_type": "code",
   "execution_count": null,
   "metadata": {},
   "outputs": [],
   "source": [
    "# open(io -> serialize(io, (langs, alphabet, scanner, encoder)), \"model-1.03.jls\", \"w\")"
   ]
  },
  {
   "cell_type": "code",
   "execution_count": 31,
   "metadata": {},
   "outputs": [
    {
     "data": {
      "text/plain": [
       "(Symbol[:en, :it, :fr, :es, :da], ['a', 'b', 'c', 'd', 'e', 'f', 'g', 'h', 'i', 'j'  …  '4', '5', '6', '7', '8', '9', ' ', '\\n', '_', '\\0'], Chain(Dense(40, 15, NNlib.σ), Recur(LSTMCell(15, 15))), Dense(15, 5))"
      ]
     },
     "execution_count": 31,
     "metadata": {},
     "output_type": "execute_result"
    }
   ],
   "source": [
    "(langs, alphabet, scanner, encoder) = open(deserialize, \"model-1.03.jls\")"
   ]
  },
  {
   "cell_type": "code",
   "execution_count": 32,
   "metadata": {},
   "outputs": [],
   "source": [
    "using Interact, Plots"
   ]
  },
  {
   "cell_type": "code",
   "execution_count": 33,
   "metadata": {},
   "outputs": [
    {
     "data": {
      "text/plain": [
       "predict (generic function with 1 method)"
      ]
     },
     "execution_count": 33,
     "metadata": {},
     "output_type": "execute_result"
    }
   ],
   "source": [
    "predict(s) =\n",
    "    isempty(s) ?\n",
    "        softmax(ones(length(langs))) :\n",
    "        model(onehotbatch(normalize_string(s, casefold=true, stripmark=true), alphabet, '_').data).data"
   ]
  },
  {
   "cell_type": "code",
   "execution_count": 34,
   "metadata": {},
   "outputs": [
    {
     "data": {
      "application/vnd.jupyter.widget-view+json": {
       "model_id": "c8c308b7-0401-479a-bd85-79154210c0ea",
       "version_major": 2,
       "version_minor": 0
      }
     },
     "metadata": {},
     "output_type": "display_data"
    },
    {
     "data": {
      "text/html": [],
      "text/plain": [
       "Interact.Textbox{AbstractString}(21: \"input-6\" = text goes here AbstractString , \"s\", nothing, \"text goes here\")"
      ]
     },
     "metadata": {},
     "output_type": "display_data"
    },
    {
     "data": {
      "image/png": "[encoded data removed]"
     },
     "execution_count": 34,
     "metadata": {
      "comm_id": "8da0f0b7-63db-48a9-bd89-7013398fca9e",
      "reactive": true
     },
     "output_type": "execute_result"
    }
   ],
   "source": [
    "@manipulate for s = \"text goes here\"\n",
    "    bar(String.(langs), predict(s),\n",
    "        label=[\"Probability\"], ylims=(0,1))\n",
    "end"
   ]
  },
  {
   "cell_type": "code",
   "execution_count": null,
   "metadata": {},
   "outputs": [],
   "source": []
  }
 ],
 "metadata": {
  "kernelspec": {
   "display_name": "Julia 0.6.2",
   "language": "julia",
   "name": "julia-0.6"
  },
  "language_info": {
   "file_extension": ".jl",
   "mimetype": "application/julia",
   "name": "julia",
   "version": "0.6.2"
  }
 },
 "nbformat": 4,
 "nbformat_minor": 2
}
