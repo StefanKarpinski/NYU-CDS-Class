{
 "cells": [
  {
   "cell_type": "markdown",
   "metadata": {},
   "source": [
    "# Multiple layers with Flux.jl"
   ]
  },
  {
   "cell_type": "markdown",
   "metadata": {},
   "source": [
    "We now reach our first serious **neural network** by adding another layer to get a network looking something like this:"
   ]
  },
  {
   "cell_type": "code",
   "execution_count": null,
   "metadata": {},
   "outputs": [],
   "source": [
    "include(\"draw_neural_net.jl\")"
   ]
  },
  {
   "cell_type": "code",
   "execution_count": null,
   "metadata": {},
   "outputs": [],
   "source": [
    "plot()\n",
    "draw_layer(1, 1, 2, 4, 0.2)\n",
    "draw_layer(2, 1, 4, 3, 0.2)\n",
    "plot!()"
   ]
  },
  {
   "cell_type": "markdown",
   "metadata": {},
   "source": [
    "We will continue to use two input data and try to classify into three types, so we will have three output neurons. We have chosen to add a single \"hidden layer\" in between, and have arbitrarily chosen to put 4 neurons there (WHY?)"
   ]
  },
  {
   "cell_type": "markdown",
   "metadata": {},
   "source": [
    "## Read in and process data"
   ]
  },
  {
   "cell_type": "code",
   "execution_count": null,
   "metadata": {},
   "outputs": [],
   "source": [
    "using Flux\n",
    "using Flux: onehot"
   ]
  },
  {
   "cell_type": "code",
   "execution_count": null,
   "metadata": {},
   "outputs": [],
   "source": [
    "using TextParse\n",
    "using DataFrames\n",
    "cols, colnames = TextParse.csvread(\"Apple_Golden_1.dat\",'\\t')\n",
    "apples_1 = DataFrame(Dict(name=>col for (name, col) in zip(colnames, cols)))\n",
    "cols, colnames = TextParse.csvread(\"Apple_Golden_2.dat\",'\\t')\n",
    "apples_2 = DataFrame(Dict(name=>col for (name, col) in zip(colnames, cols)))\n",
    "cols, colnames = TextParse.csvread(\"Apple_Golden_3.dat\",'\\t')\n",
    "apples_3 = DataFrame(Dict(name=>col for (name, col) in zip(colnames, cols)))\n",
    "cols, colnames = TextParse.csvread(\"Banana.dat\",'\\t')\n",
    "bananas = DataFrame(Dict(name=>col for (name, col) in zip(colnames, cols)))\n",
    "cols, colnames = TextParse.csvread(\"Grape_White.dat\",'\\t')\n",
    "grapes_1 = DataFrame(Dict(name=>col for (name, col) in zip(colnames, cols)))\n",
    "cols, colnames = TextParse.csvread(\"Grape_White_2.dat\",'\\t')\n",
    "grapes_2 = DataFrame(Dict(name=>col for (name, col) in zip(colnames, cols)))\n",
    "\n",
    "apples = vcat(apples_1, apples_2, apples_3)\n",
    "grapes = vcat(grapes_1, grapes_2);"
   ]
  },
  {
   "cell_type": "code",
   "execution_count": null,
   "metadata": {},
   "outputs": [],
   "source": [
    "col1 = 4 #red\n",
    "col2 = 1 #blue\n",
    "\n",
    "x_apples  = [ [apples_1[i, col1], apples_1[i, col2]] for i in 1:size(apples_1)[1] ]\n",
    "append!(x_apples, [ [apples_2[i, col1], apples_2[i, col2]] for i in 1:size(apples_2)[1] ])\n",
    "append!(x_apples, [ [apples_3[i, col1], apples_3[i, col2]] for i in 1:size(apples_3)[1] ])\n",
    "\n",
    "x_bananas = [ [bananas[i, col1], bananas[i, col2]] for i in 1:size(bananas)[1] ]\n",
    "\n",
    "x_grapes = [ [grapes_1[i, col1], grapes_1[i, col2]] for i in 1:size(grapes_1)[1] ]\n",
    "append!(x_grapes, [ [grapes_2[i, col1], grapes_2[i, col2]] for i in 1:size(grapes_2)[1] ])\n",
    "\n",
    "xs = vcat(x_apples, x_bananas, x_grapes);"
   ]
  },
  {
   "cell_type": "markdown",
   "metadata": {},
   "source": [
    "We now we wish to classify the three types of fruit, so we will use as output *one-hot vectors*. Effectively, the first neuron learns whether (1) or not (0) the data corresponds to an apple, the second whether (1) or not (0) it corresponds to a banana, etc:"
   ]
  },
  {
   "cell_type": "code",
   "execution_count": null,
   "metadata": {},
   "outputs": [],
   "source": [
    "labels = [ones(length(x_apples)); 2*ones(length(x_bananas)); 3*ones(length(x_grapes))];\n",
    "\n",
    "ys = [onehot(label, 1:3) for label in labels];  # onehotbatch(labels, 1:3)"
   ]
  },
  {
   "cell_type": "markdown",
   "metadata": {},
   "source": [
    "The input data is in `xs` and the one-hot vectors are in `ys`."
   ]
  },
  {
   "cell_type": "markdown",
   "metadata": {},
   "source": [
    "## Multiple layers in Flux"
   ]
  },
  {
   "cell_type": "markdown",
   "metadata": {},
   "source": [
    "Let's tell Flux what structure we want the network to have:"
   ]
  },
  {
   "cell_type": "code",
   "execution_count": null,
   "metadata": {},
   "outputs": [],
   "source": [
    "inputs = 2\n",
    "outputs = 3\n",
    "hidden = 4\n",
    "\n",
    "layer1 = Dense(inputs, hidden, σ)\n",
    "layer2 = Dense(hidden, outputs, σ)"
   ]
  },
  {
   "cell_type": "markdown",
   "metadata": {},
   "source": [
    "To make the `model`, we use Flux's `Chain` function:"
   ]
  },
  {
   "cell_type": "code",
   "execution_count": null,
   "metadata": {},
   "outputs": [],
   "source": [
    "model = Chain(layer1, layer2)"
   ]
  },
  {
   "cell_type": "markdown",
   "metadata": {},
   "source": [
    "We see that `model` understands that it has layers, and that each layer has a `W` and a `b`:"
   ]
  },
  {
   "cell_type": "code",
   "execution_count": null,
   "metadata": {},
   "outputs": [],
   "source": [
    "model.layers"
   ]
  },
  {
   "cell_type": "code",
   "execution_count": null,
   "metadata": {},
   "outputs": [],
   "source": [
    "params(model)"
   ]
  },
  {
   "cell_type": "code",
   "execution_count": null,
   "metadata": {},
   "outputs": [],
   "source": [
    "loss(x, y) = Flux.mse(model(x), y)"
   ]
  },
  {
   "cell_type": "code",
   "execution_count": null,
   "metadata": {},
   "outputs": [],
   "source": [
    "data = zip(xs, ys)"
   ]
  },
  {
   "cell_type": "markdown",
   "metadata": {},
   "source": [
    "Flux has several different optimizers, apart from `SGD`. For example, a popular one is `ADAM`:"
   ]
  },
  {
   "cell_type": "code",
   "execution_count": null,
   "metadata": {},
   "outputs": [],
   "source": [
    "opt = ADAM(params(model), 0.02)\n",
    "# give a list of the parameters that will be modified"
   ]
  },
  {
   "cell_type": "code",
   "execution_count": null,
   "metadata": {},
   "outputs": [],
   "source": [
    "for i in 1:100\n",
    "    Flux.train!(loss, data, opt)\n",
    "end"
   ]
  },
  {
   "cell_type": "code",
   "execution_count": null,
   "metadata": {},
   "outputs": [],
   "source": [
    "params(model)"
   ]
  },
  {
   "cell_type": "markdown",
   "metadata": {},
   "source": [
    "What does this neural network represent? It is simply a more complicated function with two inputs and three outputs, i.e. a function $f: \\mathbb{R}^2 \\to \\mathbb{R}^3$.\n",
    "\n",
    "Let's look at each component:"
   ]
  },
  {
   "cell_type": "code",
   "execution_count": null,
   "metadata": {},
   "outputs": [],
   "source": [
    "coords = 0:0.01:0.8\n",
    "\n",
    "heatmap(coords, coords, (x,y)->model([x,y]).data[1])\n",
    "contour!(coords, coords, (x,y)->model([x,y]).data[1], levels=[0.5, 0.501], lw=3)\n",
    "\n",
    "\n",
    "scatter!(first.(x_apples), last.(x_apples), m=:cross, label=\"apples\")\n",
    "scatter!(first.(x_bananas), last.(x_bananas), m=:circle, label=\"bananas\")\n",
    "scatter!(first.(x_grapes), last.(x_grapes), m=:square, label=\"grapes\")\n",
    "\n",
    "xlims!(0.4, 0.8)\n",
    "ylims!(0.1, 0.5)\n"
   ]
  },
  {
   "cell_type": "markdown",
   "metadata": {},
   "source": [
    "We see that the first component, which is supposed to separate apples from non-apples, has been able to learn a set that has a much more complicated shape than simply a hyperplane: the hyperplane has been bent round. It is not able to encompass all of the apple data, but it's definitely progress.  It's also possible that we need to let the network learn for a longer time."
   ]
  },
  {
   "cell_type": "code",
   "execution_count": null,
   "metadata": {},
   "outputs": [],
   "source": [
    "coords = 0:0.01:1\n",
    "\n",
    "#contour(coords, coords, (x,y)->model([x,y]).data[2], levels=[0.5, 0.501], lw=3)\n",
    "heatmap(coords, coords, (x,y)->model([x,y]).data[2])\n",
    "\n",
    "\n",
    "scatter!(first.(x_apples), last.(x_apples), m=:cross, label=\"apples\")\n",
    "scatter!(first.(x_bananas), last.(x_bananas), m=:circle, label=\"bananas\")\n",
    "scatter!(first.(x_grapes), last.(x_grapes), m=:square, label=\"grapes\")\n",
    "\n",
    "xlims!(0.4, 0.8)\n",
    "ylims!(0.1, 0.5)\n"
   ]
  },
  {
   "cell_type": "markdown",
   "metadata": {},
   "source": [
    "The second component is reasonably successful at separating out the bananas. Since there are some apples mixed in there, it can't be expected to do too much better."
   ]
  },
  {
   "cell_type": "code",
   "execution_count": null,
   "metadata": {
    "scrolled": true
   },
   "outputs": [],
   "source": [
    "coords = 0:0.01:1\n",
    "\n",
    "heatmap(coords, coords, (x,y)->model([x,y]).data[3])\n",
    "contour!(coords, coords, (x,y)->model([x,y]).data[3], levels=[0.5, 0.501], lw=3)\n",
    "\n",
    "\n",
    "scatter!(first.(x_apples), last.(x_apples), m=:cross, label=\"apples\")\n",
    "scatter!(first.(x_bananas), last.(x_bananas), m=:circle, label=\"bananas\")\n",
    "scatter!(first.(x_grapes), last.(x_grapes), m=:square, label=\"grapes\")\n",
    "\n",
    "xlims!(0.4, 0.8)\n",
    "ylims!(0.1, 0.5)"
   ]
  },
  {
   "cell_type": "markdown",
   "metadata": {},
   "source": [
    "The third component separates grapes from the rest pretty successfully."
   ]
  },
  {
   "cell_type": "markdown",
   "metadata": {},
   "source": [
    "We see that adding an intermediate layer allows the network to start to deform the separating surfaces that it is learning."
   ]
  }
 ],
 "metadata": {
  "kernelspec": {
   "display_name": "Julia 0.6.2",
   "language": "julia",
   "name": "julia-0.6"
  },
  "language_info": {
   "file_extension": ".jl",
   "mimetype": "application/julia",
   "name": "julia",
   "version": "0.6.2"
  },
  "toc": {
   "colors": {
    "hover_highlight": "#DAA520",
    "running_highlight": "#FF0000",
    "selected_highlight": "#FFD700"
   },
   "moveMenuLeft": true,
   "nav_menu": {
    "height": "30px",
    "width": "252px"
   },
   "navigate_menu": true,
   "number_sections": true,
   "sideBar": true,
   "threshold": "1",
   "toc_cell": false,
   "toc_section_display": "block",
   "toc_window_display": false
  }
 },
 "nbformat": 4,
 "nbformat_minor": 2
}
